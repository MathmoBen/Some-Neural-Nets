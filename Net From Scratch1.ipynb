{
 "cells": [
  {
   "cell_type": "markdown",
   "id": "571855cb",
   "metadata": {},
   "source": [
    "# Neural network from scratch"
   ]
  },
  {
   "cell_type": "code",
   "execution_count": 3,
   "id": "201ef8e3",
   "metadata": {},
   "outputs": [],
   "source": [
    "#This is an attempt to create a basic neural network from scratch following:\n",
    "# https://www.geeksforgeeks.org/implementation-of-neural-network-from-scratch-using-numpy/"
   ]
  },
  {
   "cell_type": "code",
   "execution_count": 16,
   "id": "e8a1b73d",
   "metadata": {},
   "outputs": [],
   "source": [
    "#usual imports\n",
    "\n",
    "import numpy as np\n",
    "import matplotlib.pyplot as plt\n",
    "from pprint import pprint\n",
    "import matplotlib.pyplot as plt1"
   ]
  },
  {
   "cell_type": "code",
   "execution_count": 5,
   "id": "03d36ea9",
   "metadata": {},
   "outputs": [],
   "source": [
    "# Data set to be added\n",
    "\n",
    "# A\n",
    "a =[0, 0, 1, 1, 0, 0,\n",
    "0, 1, 0, 0, 1, 0,\n",
    "1, 1, 1, 1, 1, 1,\n",
    "1, 0, 0, 0, 0, 1,\n",
    "1, 0, 0, 0, 0, 1]\n",
    "# B\n",
    "b =[0, 1, 1, 1, 1, 0,\n",
    "0, 1, 0, 0, 1, 0,\n",
    "0, 1, 1, 1, 1, 0,\n",
    "0, 1, 0, 0, 1, 0,\n",
    "0, 1, 1, 1, 1, 0]\n",
    "# C\n",
    "c =[0, 1, 1, 1, 1, 0,\n",
    "0, 1, 0, 0, 0, 0,\n",
    "0, 1, 0, 0, 0, 0,\n",
    "0, 1, 0, 0, 0, 0,\n",
    "0, 1, 1, 1, 1, 0]\n",
    "\n",
    "# Creating labels\n",
    "y =[[1, 0, 0],\n",
    "[0, 1, 0],\n",
    "[0, 0, 1]]\n"
   ]
  },
  {
   "cell_type": "code",
   "execution_count": 6,
   "id": "85fd34d4",
   "metadata": {},
   "outputs": [
    {
     "data": {
      "image/png": "[encoded data removed]",
      "text/plain": [
       "<Figure size 640x480 with 1 Axes>"
      ]
     },
     "metadata": {},
     "output_type": "display_data"
    },
    {
     "data": {
      "image/png": "[encoded data removed]",
      "text/plain": [
       "<Figure size 640x480 with 1 Axes>"
      ]
     },
     "metadata": {},
     "output_type": "display_data"
    },
    {
     "data": {
      "image/png": "[encoded data removed]",
      "text/plain": [
       "<Figure size 640x480 with 1 Axes>"
      ]
     },
     "metadata": {},
     "output_type": "display_data"
    }
   ],
   "source": [
    "# Visualising the data\n",
    "\n",
    "plt.imshow(np.array(a).reshape(5, 6))\n",
    "plt.show()\n",
    "\n",
    "plt.imshow(np.array(b).reshape(5, 6))\n",
    "plt.show()\n",
    "\n",
    "plt.imshow(np.array(c).reshape(5, 6))\n",
    "plt.show()"
   ]
  },
  {
   "cell_type": "code",
   "execution_count": 6,
   "id": "a64b8d76",
   "metadata": {},
   "outputs": [
    {
     "name": "stdout",
     "output_type": "stream",
     "text": [
      "[array([[0, 0, 1, 1, 0, 0, 0, 1, 0, 0, 1, 0, 1, 1, 1, 1, 1, 1, 1, 0, 0, 0,\n",
      "        0, 1, 1, 0, 0, 0, 0, 1]]),\n",
      " array([[0, 1, 1, 1, 1, 0, 0, 1, 0, 0, 1, 0, 0, 1, 1, 1, 1, 0, 0, 1, 0, 0,\n",
      "        1, 0, 0, 1, 1, 1, 1, 0]]),\n",
      " array([[0, 1, 1, 1, 1, 0, 0, 1, 0, 0, 0, 0, 0, 1, 0, 0, 0, 0, 0, 1, 0, 0,\n",
      "        0, 0, 0, 1, 1, 1, 1, 0]])]\n",
      "array([[1, 0, 0],\n",
      "       [0, 1, 0],\n",
      "       [0, 0, 1]])\n"
     ]
    }
   ],
   "source": [
    "\n",
    "# converting data and labels into numpy array\n",
    " \n",
    "\"\"\"\n",
    "Convert the matrix of 0 and 1 into one hot vector \n",
    "so that we can directly feed it to the neural network,\n",
    "these vectors are then stored in a list x.\n",
    "\"\"\"\n",
    " \n",
    "x =[np.array(a).reshape(1, 30), np.array(b).reshape(1, 30), \n",
    "                                np.array(c).reshape(1, 30)]\n",
    " \n",
    " \n",
    "# Labels are also converted into NumPy array\n",
    "y = np.array(y)\n",
    " \n",
    " \n",
    "pprint(x)\n",
    "pprint(y)"
   ]
  },
  {
   "cell_type": "code",
   "execution_count": 7,
   "id": "b57fc2a6",
   "metadata": {},
   "outputs": [],
   "source": [
    "# activation function\n",
    " \n",
    "def sigmoid(x):\n",
    "    return(1/(1 + np.exp(-x)))"
   ]
  },
  {
   "cell_type": "code",
   "execution_count": 8,
   "id": "9658f2ce",
   "metadata": {},
   "outputs": [],
   "source": [
    "# Creating the Feed forward neural network\n",
    "# 1 Input layer(1, 30)\n",
    "# 1 hidden layer (1, 5)\n",
    "# 1 output layer(3, 3)\n",
    "\n",
    "def f_forward(x, w1, w2):\n",
    "    # hidden\n",
    "    z1 = x @ w1# input from layer 1 \n",
    "    a1 = sigmoid(z1)# out put of layer 2 \n",
    "\n",
    "    # Output layer\n",
    "    z2 = a1 @ w2# input of out layer\n",
    "    a2 = sigmoid(z2)# output of out layer\n",
    "    return a2\n",
    "\n",
    "# initializing the weights randomly\n",
    "def generate_wt(x, y):\n",
    "    l =[]\n",
    "    for i in range(x * y):\n",
    "        l.append(np.random.randn())\n",
    "    return np.array(l).reshape(x, y)\n",
    "\n",
    "# for loss we will be using mean square error(MSE)\n",
    "def loss(out, Y):\n",
    "    s =(np.square(out-Y))\n",
    "    s = np.sum(s)/len(y)\n",
    "    return(s)\n",
    "\n",
    "# Back propagation of error \n",
    "def back_prop(x, y, w1, w2, alpha):\n",
    "\n",
    "    # hidden layer\n",
    "    z1 = x @ w1# input from layer 1 \n",
    "    a1 = sigmoid(z1)# output of layer 2 \n",
    "\n",
    "    # Output layer\n",
    "    z2 = a1 @ w2# input of out layer\n",
    "    a2 = sigmoid(z2)# output of out layer\n",
    "    # error in output layer\n",
    "    d2 =(a2-y)\n",
    "    d1 = np.multiply((w2 @ d2.T).T, \n",
    "                                (np.multiply(a1, 1-a1)))\n",
    "\n",
    "    # Gradient for w1 and w2\n",
    "    w1_adj = x.T @ d1\n",
    "    w2_adj = a1.T @ d2\n",
    "\n",
    "    # Updating parameters\n",
    "    w1 = w1-(alpha*(w1_adj))\n",
    "    w2 = w2-(alpha*(w2_adj))\n",
    "\n",
    "    return(w1, w2)\n",
    "\n",
    "def train(x, Y, w1, w2, alpha = 0.01, epoch = 10):\n",
    "    acc =[]\n",
    "    losss =[]\n",
    "    for j in range(epoch):\n",
    "        l =[]\n",
    "        for i in range(len(x)):\n",
    "            out = f_forward(x[i], w1, w2)\n",
    "            l.append((loss(out, Y[i])))\n",
    "            w1, w2 = back_prop(x[i], y[i], w1, w2, alpha)\n",
    "        print(\"epochs:\", j + 1, \"======== acc:\", (1-(sum(l)/len(x)))*100) \n",
    "        acc.append((1-(sum(l)/len(x)))*100)\n",
    "        losss.append(sum(l)/len(x))\n",
    "    return(acc, losss, w1, w2)\n",
    "\n",
    "def predict(x, w1, w2):\n",
    "    Out = f_forward(x, w1, w2)\n",
    "    maxm = 0\n",
    "    k = 0\n",
    "    for i in range(len(Out[0])):\n",
    "        if(maxm<Out[0][i]):\n",
    "            maxm = Out[0][i]\n",
    "            k = i\n",
    "    if(k == 0):\n",
    "        print(\"Image is of letter A.\")\n",
    "    elif(k == 1):\n",
    "        print(\"Image is of letter B.\")\n",
    "    else:\n",
    "        print(\"Image is of letter C.\")\n",
    "    plt.imshow(x.reshape(5, 6))\n",
    "    plt.show() "
   ]
  },
  {
   "cell_type": "code",
   "execution_count": 14,
   "id": "22e30f59",
   "metadata": {},
   "outputs": [
    {
     "name": "stdout",
     "output_type": "stream",
     "text": [
      "array([[-1.49064440e+00,  1.13281266e+00,  1.39720765e+00,\n",
      "        -1.77904666e+00,  2.66276736e+00],\n",
      "       [ 4.30871884e-01,  3.47966874e-01,  6.84269291e-01,\n",
      "        -9.02474239e-01,  9.14476531e-02],\n",
      "       [ 1.68746201e+00, -2.50640709e-02,  1.18920582e+00,\n",
      "         1.55027715e+00, -6.24683496e-01],\n",
      "       [-1.49423224e+00,  6.99401157e-01,  1.06861209e+00,\n",
      "        -1.07046617e+00,  2.49694885e-01],\n",
      "       [ 4.73441129e-01,  1.77622575e-01, -6.98612655e-01,\n",
      "         3.17032487e-01, -1.15201841e+00],\n",
      "       [-2.33128915e-01, -1.31941667e-01, -9.23028286e-01,\n",
      "         3.70592931e-01,  1.48946550e+00],\n",
      "       [ 3.91899163e-01,  2.27545569e+00, -4.18898159e-01,\n",
      "        -1.53212246e-01,  1.59938173e+00],\n",
      "       [-9.04331320e-01,  1.28438972e-01,  7.21630630e-01,\n",
      "         5.05317823e-01,  1.27408982e+00],\n",
      "       [ 2.43594325e-01, -1.31002544e+00,  8.17019330e-01,\n",
      "         2.22488003e-01, -1.27511209e+00],\n",
      "       [ 1.60708361e+00,  7.79300968e-01,  9.00826063e-01,\n",
      "        -3.78647380e-01,  1.11468888e+00],\n",
      "       [-6.21313635e-01,  4.41712293e-01, -9.03867619e-01,\n",
      "        -9.12232111e-01, -1.33771261e-01],\n",
      "       [ 4.71987259e-01, -3.58043489e-01, -1.05130264e+00,\n",
      "         9.88984758e-01, -9.92915237e-01],\n",
      "       [-9.12743603e-01,  8.95938463e-01,  1.10756487e+00,\n",
      "         8.53487103e-01,  7.77174189e-01],\n",
      "       [-3.04733141e-01,  6.77848771e-01,  2.68994553e-01,\n",
      "        -1.41796294e+00,  1.33042273e-04],\n",
      "       [-8.36682005e-01, -1.48587511e+00, -4.79110696e-01,\n",
      "         3.95630353e-01,  3.59603000e-01],\n",
      "       [-6.91152075e-01, -9.31353397e-01,  1.76683401e+00,\n",
      "         2.31635948e-01,  1.43823473e+00],\n",
      "       [-3.96315947e-01,  9.15149704e-01, -1.17728935e+00,\n",
      "         7.76414446e-01, -4.45937452e-01],\n",
      "       [-1.33725690e+00,  7.47892405e-02, -1.08117907e-01,\n",
      "        -6.04585495e-01, -3.54485131e-01],\n",
      "       [ 5.20808051e-01,  3.63922275e-02,  2.23640855e-01,\n",
      "         2.48330024e+00, -4.18620378e-01],\n",
      "       [ 5.40229158e-01, -3.41928060e-01, -3.66826029e-01,\n",
      "         1.62001262e+00, -1.38213606e+00],\n",
      "       [-1.86560038e+00,  2.86847577e+00, -2.06489983e-01,\n",
      "         2.42210417e-01,  1.43113096e+00],\n",
      "       [-7.50290674e-01,  1.44739856e+00, -2.39906251e-01,\n",
      "        -1.66262873e+00, -7.15627127e-03],\n",
      "       [ 7.03227386e-01, -2.89612807e-01,  1.16951530e+00,\n",
      "         6.28152063e-01, -6.35071035e-01],\n",
      "       [ 1.27688588e-01, -2.10287344e-01, -9.22949271e-01,\n",
      "         1.01224896e+00, -7.89689481e-01],\n",
      "       [-8.28354670e-01, -1.09946020e+00, -8.82541190e-01,\n",
      "        -3.39790874e-01, -1.07883966e-01],\n",
      "       [ 7.10873406e-01, -8.80462469e-01, -9.72034049e-01,\n",
      "         6.02685399e-01, -1.65991131e+00],\n",
      "       [-1.05697469e+00, -1.03370089e+00, -7.82332383e-01,\n",
      "        -1.31534661e-01,  2.22071546e-02],\n",
      "       [ 3.84739863e-01,  3.91226485e-01, -1.97886072e+00,\n",
      "        -4.87989275e-01,  3.81340112e-01],\n",
      "       [ 1.33184218e-01,  1.03275510e+00,  1.11724693e+00,\n",
      "        -1.05902263e+00,  1.32076686e+00],\n",
      "       [ 1.69663519e+00, -6.69828656e-01,  3.05161326e-01,\n",
      "         2.22584941e+00,  1.63503980e-02]])\n",
      "array([[-0.10333369, -0.44440175,  0.40087108],\n",
      "       [-1.96714919, -1.24367727, -1.72110329],\n",
      "       [ 0.47312551,  0.41865327,  1.1822318 ],\n",
      "       [ 1.28159161,  2.04816985,  0.31573617],\n",
      "       [ 1.17036061,  0.83435728, -0.37635412]])\n"
     ]
    }
   ],
   "source": [
    "#Initialising the weights\n",
    "\n",
    "w1 = generate_wt(30, 5)\n",
    "w2 = generate_wt(5, 3)\n",
    "pprint(w1)\n",
    "pprint(w2)"
   ]
  },
  {
   "cell_type": "code",
   "execution_count": 15,
   "id": "f84dddd8",
   "metadata": {},
   "outputs": [
    {
     "name": "stdout",
     "output_type": "stream",
     "text": [
      "epochs: 1 ======== acc: 70.76473986853739\n",
      "epochs: 2 ======== acc: 75.3891105822355\n",
      "epochs: 3 ======== acc: 77.11504680836173\n",
      "epochs: 4 ======== acc: 78.0921838032183\n",
      "epochs: 5 ======== acc: 78.86174828433275\n",
      "epochs: 6 ======== acc: 79.54456396202664\n",
      "epochs: 7 ======== acc: 80.17216478280402\n",
      "epochs: 8 ======== acc: 80.75576027217421\n",
      "epochs: 9 ======== acc: 81.30173550777229\n",
      "epochs: 10 ======== acc: 81.8152413181052\n",
      "epochs: 11 ======== acc: 82.30086943875227\n",
      "epochs: 12 ======== acc: 82.76266996780673\n",
      "epochs: 13 ======== acc: 83.20409597352213\n",
      "epochs: 14 ======== acc: 83.6279983763136\n",
      "epochs: 15 ======== acc: 84.03667134232393\n",
      "epochs: 16 ======== acc: 84.43192552406829\n",
      "epochs: 17 ======== acc: 84.8151700679072\n",
      "epochs: 18 ======== acc: 85.18749185625207\n",
      "epochs: 19 ======== acc: 85.54972625203251\n",
      "epochs: 20 ======== acc: 85.9025171471453\n",
      "epochs: 21 ======== acc: 86.24636606189314\n",
      "epochs: 22 ======== acc: 86.5816710562563\n",
      "epochs: 23 ======== acc: 86.90875670576284\n",
      "epochs: 24 ======== acc: 87.2278965819616\n",
      "epochs: 25 ======== acc: 87.53932967555882\n",
      "epochs: 26 ======== acc: 87.84327208124975\n",
      "epochs: 27 ======== acc: 88.1399250806499\n",
      "epochs: 28 ======== acc: 88.42948055460744\n",
      "epochs: 29 ======== acc: 88.71212445749237\n",
      "epochs: 30 ======== acc: 88.98803891096125\n",
      "epochs: 31 ======== acc: 89.25740333056766\n",
      "epochs: 32 ======== acc: 89.52039488596355\n",
      "epochs: 33 ======== acc: 89.77718851092192\n",
      "epochs: 34 ======== acc: 90.02795661792766\n",
      "epochs: 35 ======== acc: 90.27286862835379\n",
      "epochs: 36 ======== acc: 90.5120903985596\n",
      "epochs: 37 ======== acc: 90.74578360080648\n",
      "epochs: 38 ======== acc: 90.97410510279443\n",
      "epochs: 39 ======== acc: 91.19720637878362\n",
      "epochs: 40 ======== acc: 91.41523297723231\n",
      "epochs: 41 ======== acc: 91.62832406367194\n",
      "epochs: 42 ======== acc: 91.83661205251184\n",
      "epochs: 43 ======== acc: 92.0402223372071\n",
      "epochs: 44 ======== acc: 92.2392731244747\n",
      "epochs: 45 ======== acc: 92.43387537485368\n",
      "epochs: 46 ======== acc: 92.62413284879136\n",
      "epochs: 47 ======== acc: 92.81014225457336\n",
      "epochs: 48 ======== acc: 92.99199349180232\n",
      "epochs: 49 ======== acc: 93.16976998180799\n",
      "epochs: 50 ======== acc: 93.34354907438237\n",
      "epochs: 51 ======== acc: 93.51340251863654\n",
      "epochs: 52 ======== acc: 93.67939698461747\n",
      "epochs: 53 ======== acc: 93.84159462164038\n",
      "epochs: 54 ======== acc: 94.00005363910246\n",
      "epochs: 55 ======== acc: 94.1548288958367\n",
      "epochs: 56 ======== acc: 94.30597248480866\n",
      "epochs: 57 ======== acc: 94.45353430109495\n",
      "epochs: 58 ======== acc: 94.59756258253648\n",
      "epochs: 59 ======== acc: 94.73810441414099\n",
      "epochs: 60 ======== acc: 94.87520618912656\n",
      "epochs: 61 ======== acc: 95.00891402135956\n",
      "epochs: 62 ======== acc: 95.1392741057608\n",
      "epochs: 63 ======== acc: 95.2663330249669\n",
      "epochs: 64 ======== acc: 95.39013800208026\n",
      "epochs: 65 ======== acc: 95.51073710068798\n",
      "epochs: 66 ======== acc: 95.62817937445062\n",
      "epochs: 67 ======== acc: 95.74251496945426\n",
      "epochs: 68 ======== acc: 95.85379518318356\n",
      "epochs: 69 ======== acc: 95.96207248442927\n",
      "epochs: 70 ======== acc: 96.06740049870659\n",
      "epochs: 71 ======== acc: 96.16983396386057\n",
      "epochs: 72 ======== acc: 96.26942866049467\n",
      "epochs: 73 ======== acc: 96.3662413217074\n",
      "epochs: 74 ======== acc: 96.46032952638444\n",
      "epochs: 75 ======== acc: 96.55175157999236\n",
      "epochs: 76 ======== acc: 96.64056638647817\n",
      "epochs: 77 ======== acc: 96.72683331450983\n",
      "epochs: 78 ======== acc: 96.8106120609163\n",
      "epochs: 79 ======== acc: 96.89196251380933\n",
      "epochs: 80 ======== acc: 96.97094461750517\n",
      "epochs: 81 ======== acc: 97.04761824101776\n",
      "epochs: 82 ======== acc: 97.12204305157228\n",
      "epochs: 83 ======== acc: 97.19427839429122\n",
      "epochs: 84 ======== acc: 97.26438317893653\n",
      "epochs: 85 ======== acc: 97.33241577435274\n",
      "epochs: 86 ======== acc: 97.39843391104432\n",
      "epochs: 87 ======== acc: 97.46249459213871\n",
      "epochs: 88 ======== acc: 97.52465401282923\n",
      "epochs: 89 ======== acc: 97.58496748826097\n",
      "epochs: 90 ======== acc: 97.643489389713\n",
      "epochs: 91 ======== acc: 97.7002730888424\n",
      "epochs: 92 ======== acc: 97.75537090968507\n",
      "epochs: 93 ======== acc: 97.80883408805462\n",
      "epochs: 94 ======== acc: 97.86071273794127\n",
      "epochs: 95 ======== acc: 97.91105582448523\n",
      "epochs: 96 ======== acc: 97.95991114308313\n",
      "epochs: 97 ======== acc: 98.00732530417746\n",
      "epochs: 98 ======== acc: 98.05334372327972\n",
      "epochs: 99 ======== acc: 98.09801061578311\n",
      "epochs: 100 ======== acc: 98.14136899613163\n"
     ]
    }
   ],
   "source": [
    "#Training the model\n",
    "\n",
    "\"\"\"The arguments of train function are data set list x, \n",
    "correct labels y, weights w1, w2, learning rate = 0.1, \n",
    "no of epochs or iteration.The function will return the\n",
    "matrix of accuracy and loss and also the matrix of \n",
    "trained weights w1, w2\"\"\"\n",
    " \n",
    "acc, losss, w1, w2 = train(x, y, w1, w2, 0.1, 100)"
   ]
  },
  {
   "cell_type": "code",
   "execution_count": 17,
   "id": "92790127",
   "metadata": {},
   "outputs": [
    {
     "data": {
      "image/png": "[encoded data removed]",
      "text/plain": [
       "<Figure size 640x480 with 1 Axes>"
      ]
     },
     "metadata": {},
     "output_type": "display_data"
    },
    {
     "data": {
      "image/png": "[encoded data removed]",
      "text/plain": [
       "<Figure size 640x480 with 1 Axes>"
      ]
     },
     "metadata": {},
     "output_type": "display_data"
    }
   ],
   "source": [
    "# plotting accuracy\n",
    "plt1.plot(acc)\n",
    "plt1.ylabel('Accuracy')\n",
    "plt1.xlabel(\"Epochs:\")\n",
    "plt1.show()\n",
    " \n",
    "# plotting Loss\n",
    "plt1.plot(losss)\n",
    "plt1.ylabel('Loss')\n",
    "plt1.xlabel(\"Epochs:\")\n",
    "plt1.show()"
   ]
  },
  {
   "cell_type": "code",
   "execution_count": 18,
   "id": "27ad8171",
   "metadata": {},
   "outputs": [
    {
     "name": "stdout",
     "output_type": "stream",
     "text": [
      "array([[-1.4906444 ,  1.13281266,  1.39720765, -1.77904666,  2.66276736],\n",
      "       [ 0.61347281,  0.44481268,  0.66813927, -1.04484832, -0.35241025],\n",
      "       [ 1.86194123,  0.25967121,  1.44097974,  1.40274587, -0.69319701],\n",
      "       [-1.31975303,  0.98413643,  1.32038601, -1.21799744,  0.18118137],\n",
      "       [ 0.65604205,  0.27446838, -0.71474268,  0.1746584 , -1.59587631],\n",
      "       [-0.23312891, -0.13194167, -0.92302829,  0.37059293,  1.4894655 ],\n",
      "       [ 0.39189916,  2.27545569, -0.41889816, -0.15321225,  1.59938173],\n",
      "       [-0.7298521 ,  0.41317425,  0.97340455,  0.35778655,  1.20557631],\n",
      "       [ 0.24359432, -1.31002544,  0.81701933,  0.222488  , -1.27511209],\n",
      "       [ 1.60708361,  0.77930097,  0.90082606, -0.37864738,  1.11468888],\n",
      "       [-1.15216397,  0.7892432 , -1.63351541, -0.18037167, -0.0104372 ],\n",
      "       [ 0.47198726, -0.35804349, -1.05130264,  0.98898476, -0.99291524],\n",
      "       [-0.92086531,  1.08382793,  1.37546881,  0.84832991,  1.15251858],\n",
      "       [-0.13025392,  0.96258405,  0.52076847, -1.56549421, -0.06838047],\n",
      "       [-1.36753234, -1.1383442 , -1.20875848,  1.1274908 ,  0.48293706],\n",
      "       [-1.22200241, -0.58382249,  1.03718623,  0.96349639,  1.56156878],\n",
      "       [-0.92716628,  1.26268061, -1.90693714,  1.50827489, -0.32260339],\n",
      "       [-1.34537861,  0.26267871,  0.15978604, -0.60974269,  0.02085926],\n",
      "       [ 0.51268635,  0.2242817 ,  0.4915448 ,  2.47814304, -0.04327599],\n",
      "       [ 0.72283008, -0.24508225, -0.38295605,  1.47763854, -1.82599396],\n",
      "       [-1.86560038,  2.86847577, -0.20648998,  0.24221042,  1.43113096],\n",
      "       [-0.75029067,  1.44739856, -0.23990625, -1.66262873, -0.00715627],\n",
      "       [ 0.18049875, -0.12997137,  0.17196357,  1.3651697 , -0.88708137],\n",
      "       [ 0.11956688, -0.02239788, -0.65504533,  1.00709176, -0.41434509],\n",
      "       [-0.83647637, -0.91157073, -0.61463725, -0.34494807,  0.26746043],\n",
      "       [ 0.89347433, -0.78361666, -0.98816407,  0.46031132, -2.10376922],\n",
      "       [-0.87437377, -0.93685508, -0.7984624 , -0.27390874, -0.42165075],\n",
      "       [ 0.56734079,  0.48807229, -1.99499074, -0.63036336, -0.06251779],\n",
      "       [ 0.31578514,  1.1296009 ,  1.10111691, -1.20139672,  0.87690896],\n",
      "       [ 1.68851349, -0.48193919,  0.57306527,  2.22069221,  0.39169479]])\n",
      "array([[-1.32656614, -0.65105588,  2.62521209],\n",
      "       [-3.00429445, -1.04926715, -1.50219589],\n",
      "       [ 0.87654078, -1.66268494,  1.67801198],\n",
      "       [ 1.27219701,  2.40039319, -1.58521066],\n",
      "       [ 2.89360337, -1.77341164, -1.43699703]])\n"
     ]
    }
   ],
   "source": [
    "#The final trained weights\n",
    "\n",
    "pprint(w1)\n",
    "pprint(w2)"
   ]
  },
  {
   "cell_type": "code",
   "execution_count": 23,
   "id": "0ef923de",
   "metadata": {},
   "outputs": [
    {
     "name": "stdout",
     "output_type": "stream",
     "text": [
      "Image is of letter A.\n"
     ]
    },
    {
     "data": {
      "image/png": "[encoded data removed]",
      "text/plain": [
       "<Figure size 640x480 with 1 Axes>"
      ]
     },
     "metadata": {},
     "output_type": "display_data"
    }
   ],
   "source": [
    "#An example of a prediction\n",
    "\n",
    "\"\"\"\n",
    "The predict function will take the following arguments:\n",
    "1) image matrix\n",
    "2) w1 trained weights\n",
    "3) w2 trained weights\n",
    "\"\"\"\n",
    "predict(x[0], w1, w2)"
   ]
  },
  {
   "cell_type": "code",
   "execution_count": 21,
   "id": "445844c6",
   "metadata": {},
   "outputs": [
    {
     "data": {
      "text/plain": [
       "3"
      ]
     },
     "execution_count": 21,
     "metadata": {},
     "output_type": "execute_result"
    }
   ],
   "source": [
    "len(x)"
   ]
  },
  {
   "cell_type": "code",
   "execution_count": null,
   "id": "16b8070b",
   "metadata": {},
   "outputs": [],
   "source": []
  }
 ],
 "metadata": {
  "kernelspec": {
   "display_name": "Python 3 (ipykernel)",
   "language": "python",
   "name": "python3"
  },
  "language_info": {
   "codemirror_mode": {
    "name": "ipython",
    "version": 3
   },
   "file_extension": ".py",
   "mimetype": "text/x-python",
   "name": "python",
   "nbconvert_exporter": "python",
   "pygments_lexer": "ipython3",
   "version": "3.11.3"
  }
 },
 "nbformat": 4,
 "nbformat_minor": 5
}
